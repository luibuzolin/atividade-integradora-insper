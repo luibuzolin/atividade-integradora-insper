{
 "cells": [
  {
   "cell_type": "code",
   "execution_count": 17,
   "id": "1d2a83f8-8d25-48b2-8cb9-ad74e4fa0857",
   "metadata": {},
   "outputs": [],
   "source": [
    "import pandas as pd\n",
    "import numpy as np"
   ]
  },
  {
   "cell_type": "code",
   "execution_count": 18,
   "id": "550cc327-e188-4d4b-bace-3825264f3963",
   "metadata": {},
   "outputs": [],
   "source": [
    "import missingno as msno"
   ]
  },
  {
   "cell_type": "code",
   "execution_count": 6,
   "id": "fc1f8641-b59a-4c08-8264-3199b753eda6",
   "metadata": {},
   "outputs": [],
   "source": [
    "df_completo = pd.read_csv(\"cs_bisnode_panel.csv\")"
   ]
  },
  {
   "cell_type": "code",
   "execution_count": 7,
   "id": "93438f10-e8d3-447c-a89d-4327922565a3",
   "metadata": {},
   "outputs": [
    {
     "name": "stdout",
     "output_type": "stream",
     "text": [
      "<class 'pandas.core.frame.DataFrame'>\n",
      "RangeIndex: 287829 entries, 0 to 287828\n",
      "Data columns (total 48 columns):\n",
      " #   Column                Non-Null Count   Dtype  \n",
      "---  ------                --------------   -----  \n",
      " 0   comp_id               287829 non-null  float64\n",
      " 1   begin                 287829 non-null  object \n",
      " 2   end                   287829 non-null  object \n",
      " 3   COGS                  18257 non-null   float64\n",
      " 4   amort                 279789 non-null  float64\n",
      " 5   curr_assets           287698 non-null  float64\n",
      " 6   curr_liab             287698 non-null  float64\n",
      " 7   extra_exp             269300 non-null  float64\n",
      " 8   extra_inc             269300 non-null  float64\n",
      " 9   extra_profit_loss     270626 non-null  float64\n",
      " 10  finished_prod         17485 non-null   float64\n",
      " 11  fixed_assets          287698 non-null  float64\n",
      " 12  inc_bef_tax           280392 non-null  float64\n",
      " 13  intang_assets         287689 non-null  float64\n",
      " 14  inventories           287698 non-null  float64\n",
      " 15  liq_assets            287698 non-null  float64\n",
      " 16  material_exp          279789 non-null  float64\n",
      " 17  net_dom_sales         18257 non-null   float64\n",
      " 18  net_exp_sales         18257 non-null   float64\n",
      " 19  personnel_exp         279789 non-null  float64\n",
      " 20  profit_loss_year      277945 non-null  float64\n",
      " 21  sales                 280392 non-null  float64\n",
      " 22  share_eq              287698 non-null  float64\n",
      " 23  subscribed_cap        287698 non-null  float64\n",
      " 24  tang_assets           286359 non-null  float64\n",
      " 25  wages                 17983 non-null   float64\n",
      " 26  D                     0 non-null       float64\n",
      " 27  balsheet_flag         287829 non-null  int64  \n",
      " 28  balsheet_length       287829 non-null  int64  \n",
      " 29  balsheet_notfullyear  287829 non-null  int64  \n",
      " 30  year                  287829 non-null  int64  \n",
      " 31  founded_year          231372 non-null  float64\n",
      " 32  exit_year             38859 non-null   float64\n",
      " 33  ceo_count             231402 non-null  float64\n",
      " 34  foreign               231402 non-null  float64\n",
      " 35  female                231402 non-null  float64\n",
      " 36  birth_year            176011 non-null  float64\n",
      " 37  inoffice_days         231402 non-null  float64\n",
      " 38  gender                231402 non-null  object \n",
      " 39  origin                231402 non-null  object \n",
      " 40  nace_main             286791 non-null  float64\n",
      " 41  ind2                  286791 non-null  float64\n",
      " 42  ind                   278060 non-null  float64\n",
      " 43  urban_m               287829 non-null  int64  \n",
      " 44  region_m              286989 non-null  object \n",
      " 45  founded_date          287778 non-null  object \n",
      " 46  exit_date             56180 non-null   object \n",
      " 47  labor_avg             141297 non-null  float64\n",
      "dtypes: float64(36), int64(5), object(7)\n",
      "memory usage: 105.4+ MB\n"
     ]
    }
   ],
   "source": [
    "df_completo.info()"
   ]
  },
  {
   "cell_type": "code",
   "execution_count": 19,
   "id": "aa76738c-ccfb-47c4-b176-ab3f0e8fcc1c",
   "metadata": {},
   "outputs": [],
   "source": [
    "df = df_completo.drop(['COGS', 'finished_prod', 'net_dom_sales','net_exp_sales', 'wages', 'D'], axis = 1)"
   ]
  },
  {
   "cell_type": "code",
   "execution_count": 31,
   "id": "8ac27d80-9c0e-4e84-b05a-47d604995e1e",
   "metadata": {},
   "outputs": [
    {
     "data": {
      "text/html": [
       "<div>\n",
       "<style scoped>\n",
       "    .dataframe tbody tr th:only-of-type {\n",
       "        vertical-align: middle;\n",
       "    }\n",
       "\n",
       "    .dataframe tbody tr th {\n",
       "        vertical-align: top;\n",
       "    }\n",
       "\n",
       "    .dataframe thead th {\n",
       "        text-align: right;\n",
       "    }\n",
       "</style>\n",
       "<table border=\"1\" class=\"dataframe\">\n",
       "  <thead>\n",
       "    <tr style=\"text-align: right;\">\n",
       "      <th></th>\n",
       "      <th>0</th>\n",
       "      <th>1</th>\n",
       "    </tr>\n",
       "  </thead>\n",
       "  <tbody>\n",
       "    <tr>\n",
       "      <th>0</th>\n",
       "      <td>comp_id</td>\n",
       "      <td>287829</td>\n",
       "    </tr>\n",
       "    <tr>\n",
       "      <th>1</th>\n",
       "      <td>begin</td>\n",
       "      <td>287829</td>\n",
       "    </tr>\n",
       "    <tr>\n",
       "      <th>2</th>\n",
       "      <td>end</td>\n",
       "      <td>287829</td>\n",
       "    </tr>\n",
       "    <tr>\n",
       "      <th>21</th>\n",
       "      <td>balsheet_flag</td>\n",
       "      <td>287829</td>\n",
       "    </tr>\n",
       "    <tr>\n",
       "      <th>22</th>\n",
       "      <td>balsheet_length</td>\n",
       "      <td>287829</td>\n",
       "    </tr>\n",
       "    <tr>\n",
       "      <th>23</th>\n",
       "      <td>balsheet_notfullyear</td>\n",
       "      <td>287829</td>\n",
       "    </tr>\n",
       "    <tr>\n",
       "      <th>24</th>\n",
       "      <td>year</td>\n",
       "      <td>287829</td>\n",
       "    </tr>\n",
       "    <tr>\n",
       "      <th>37</th>\n",
       "      <td>urban_m</td>\n",
       "      <td>287829</td>\n",
       "    </tr>\n",
       "  </tbody>\n",
       "</table>\n",
       "</div>"
      ],
      "text/plain": [
       "                       0       1\n",
       "0                comp_id  287829\n",
       "1                  begin  287829\n",
       "2                    end  287829\n",
       "21         balsheet_flag  287829\n",
       "22       balsheet_length  287829\n",
       "23  balsheet_notfullyear  287829\n",
       "24                  year  287829\n",
       "37               urban_m  287829"
      ]
     },
     "execution_count": 31,
     "metadata": {},
     "output_type": "execute_result"
    }
   ],
   "source": [
    "columns_count = pd.DataFrame((col, df[col].count()) for col in df.columns)\n",
    "\n",
    "columns_count = columns_count[columns_count[1]==287829]\n",
    "\n",
    "columns_count"
   ]
  }
 ],
 "metadata": {
  "kernelspec": {
   "display_name": "Python 3 (ipykernel)",
   "language": "python",
   "name": "python3"
  },
  "language_info": {
   "codemirror_mode": {
    "name": "ipython",
    "version": 3
   },
   "file_extension": ".py",
   "mimetype": "text/x-python",
   "name": "python",
   "nbconvert_exporter": "python",
   "pygments_lexer": "ipython3",
   "version": "3.12.4"
  }
 },
 "nbformat": 4,
 "nbformat_minor": 5
}
